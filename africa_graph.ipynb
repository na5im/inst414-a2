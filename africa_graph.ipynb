{
 "cells": [
  {
   "cell_type": "code",
   "execution_count": 2,
   "id": "19ed6b7c",
   "metadata": {},
   "outputs": [],
   "source": [
    "import networkx as nx\n",
    "import requests\n",
    "import re\n",
    "\n",
    "url = \"https://en.wikipedia.org/w/api.php\"\n",
    "params = {\n",
    "    \"action\": \"query\",\n",
    "    \"format\": \"json\",\n",
    "    \"prop\": \"links\",\n",
    "    \"plnamespace\": \"0\",\n",
    "    \"pllimit\": \"max\",\n",
    "}\n",
    "\n",
    "def get_linked_articles(title, depth, num_of_links):\n",
    "    if depth <= 0:\n",
    "        return []\n",
    "\n",
    "    params[\"titles\"] = title\n",
    "    response = requests.get(url, params=params)\n",
    "    data = response.json()\n",
    "    page = next(iter(data[\"query\"][\"pages\"].values()))\n",
    "    links = []\n",
    "\n",
    "    if \"links\" in page:\n",
    "        for link in page[\"links\"][:num_of_links]:\n",
    "            linked_title = link[\"title\"]\n",
    "            if not re.match(r'^\\d+$', linked_title):\n",
    "                links.append(linked_title)\n",
    "                \n",
    "                if depth > 1:\n",
    "                    child_links = get_linked_articles(linked_title, depth - 1, num_of_links)\n",
    "                    links.extend(child_links)\n",
    "\n",
    "    return links\n",
    "\n",
    "def add_links_to_graph(graph, main_title, links):\n",
    "    for title in links:\n",
    "        graph.add_node(title)\n",
    "        graph.add_edge(main_title, title)\n",
    "\n",
    "G = nx.DiGraph()\n",
    "depth = 2\n",
    "num_of_links = 50\n",
    "africa = \"Africa\"\n",
    "linked_titles = get_linked_articles(africa, depth, num_of_links)\n",
    "\n",
    "G.add_node(africa)\n",
    "add_links_to_graph(G, africa, linked_titles)\n",
    "\n",
    "for title in linked_titles:\n",
    "    next_title = get_linked_articles(title, depth, 10)\n",
    "    add_links_to_graph(G, title, next_title)"
   ]
  },
  {
   "cell_type": "code",
   "execution_count": 3,
   "id": "91d41a22",
   "metadata": {},
   "outputs": [],
   "source": [
    "nx.write_graphml(G, \"africa03.graphml\")"
   ]
  },
  {
   "cell_type": "code",
   "execution_count": null,
   "id": "aacb6345",
   "metadata": {},
   "outputs": [],
   "source": []
  }
 ],
 "metadata": {
  "kernelspec": {
   "display_name": "Python 3 (ipykernel)",
   "language": "python",
   "name": "python3"
  },
  "language_info": {
   "codemirror_mode": {
    "name": "ipython",
    "version": 3
   },
   "file_extension": ".py",
   "mimetype": "text/x-python",
   "name": "python",
   "nbconvert_exporter": "python",
   "pygments_lexer": "ipython3",
   "version": "3.9.6"
  }
 },
 "nbformat": 4,
 "nbformat_minor": 5
}
